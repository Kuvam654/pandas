{
 "cells": [
  {
   "cell_type": "code",
   "execution_count": 1,
   "id": "9f8b84a3-e8e8-46d4-b748-e83986e36f20",
   "metadata": {},
   "outputs": [],
   "source": [
    "import numpy as np\n",
    "import pandas as pd"
   ]
  },
  {
   "cell_type": "code",
   "execution_count": 2,
   "id": "2a5dc5b1-b124-4716-a2f5-626178b30b57",
   "metadata": {},
   "outputs": [],
   "source": [
    "dict1 = {\n",
    "    \"name\" : ['a', 'b', 'c', 'd'],\n",
    "    \"marks\" : [1,2,3,4],\n",
    "    \"city\" : ['gurgaon' , 'delhi', 'kolkata', 'hyderabad']\n",
    "}"
   ]
  },
  {
   "cell_type": "markdown",
   "id": "2649e29c-8e37-45c9-ba85-10a7066c24bf",
   "metadata": {},
   "source": [
    "# Creating DataFrame"
   ]
  },
  {
   "cell_type": "code",
   "execution_count": 3,
   "id": "0b364ed0-b9bb-4216-8eb8-c22b2d429663",
   "metadata": {},
   "outputs": [],
   "source": [
    "df = pd.DataFrame(dict1)"
   ]
  },
  {
   "cell_type": "code",
   "execution_count": 4,
   "id": "e001d816-22a1-430f-9afd-31e243e5eeb1",
   "metadata": {},
   "outputs": [
    {
     "name": "stdout",
     "output_type": "stream",
     "text": [
      "  name  marks       city\n",
      "0    a      1    gurgaon\n",
      "1    b      2      delhi\n",
      "2    c      3    kolkata\n",
      "3    d      4  hyderabad\n"
     ]
    }
   ],
   "source": [
    "print(df)"
   ]
  },
  {
   "cell_type": "markdown",
   "id": "f43f5b1a-7c51-4d92-a52b-b8a141db03fd",
   "metadata": {},
   "source": [
    "# Converting the Dataframe to excel(csv file)"
   ]
  },
  {
   "cell_type": "code",
   "execution_count": 5,
   "id": "537a8ce4-e47b-4001-b2a3-938143615e60",
   "metadata": {},
   "outputs": [],
   "source": [
    "df.to_csv('friends.csv')"
   ]
  },
  {
   "cell_type": "markdown",
   "id": "c8eaa668-0aa8-455a-b19e-32370eafd4c5",
   "metadata": {},
   "source": [
    "# Creating an excel sheet without certain column"
   ]
  },
  {
   "cell_type": "code",
   "execution_count": 6,
   "id": "b74edb07-53e1-4f06-b81f-e820fbf0fb76",
   "metadata": {},
   "outputs": [],
   "source": [
    "df.to_csv('friends1.csv', index = False)"
   ]
  },
  {
   "cell_type": "markdown",
   "id": "8e7a8e0f-2214-4a9b-8170-e0463fc926f9",
   "metadata": {},
   "source": [
    "# Printing starting n rows from DataFrame"
   ]
  },
  {
   "cell_type": "code",
   "execution_count": 7,
   "id": "5964c55c-c324-4165-9062-fd703126924a",
   "metadata": {},
   "outputs": [
    {
     "data": {
      "text/html": [
       "<div>\n",
       "<style scoped>\n",
       "    .dataframe tbody tr th:only-of-type {\n",
       "        vertical-align: middle;\n",
       "    }\n",
       "\n",
       "    .dataframe tbody tr th {\n",
       "        vertical-align: top;\n",
       "    }\n",
       "\n",
       "    .dataframe thead th {\n",
       "        text-align: right;\n",
       "    }\n",
       "</style>\n",
       "<table border=\"1\" class=\"dataframe\">\n",
       "  <thead>\n",
       "    <tr style=\"text-align: right;\">\n",
       "      <th></th>\n",
       "      <th>name</th>\n",
       "      <th>marks</th>\n",
       "      <th>city</th>\n",
       "    </tr>\n",
       "  </thead>\n",
       "  <tbody>\n",
       "    <tr>\n",
       "      <th>0</th>\n",
       "      <td>a</td>\n",
       "      <td>1</td>\n",
       "      <td>gurgaon</td>\n",
       "    </tr>\n",
       "    <tr>\n",
       "      <th>1</th>\n",
       "      <td>b</td>\n",
       "      <td>2</td>\n",
       "      <td>delhi</td>\n",
       "    </tr>\n",
       "  </tbody>\n",
       "</table>\n",
       "</div>"
      ],
      "text/plain": [
       "  name  marks     city\n",
       "0    a      1  gurgaon\n",
       "1    b      2    delhi"
      ]
     },
     "execution_count": 7,
     "metadata": {},
     "output_type": "execute_result"
    }
   ],
   "source": [
    "df.head(2)"
   ]
  },
  {
   "cell_type": "markdown",
   "id": "c866fde8-76fb-4ef5-abe8-0056720ba335",
   "metadata": {},
   "source": [
    "# Printing ending n rows from DataFrame"
   ]
  },
  {
   "cell_type": "code",
   "execution_count": 8,
   "id": "831bbdd1-073c-4d46-ad69-7914a8aa3871",
   "metadata": {},
   "outputs": [
    {
     "data": {
      "text/html": [
       "<div>\n",
       "<style scoped>\n",
       "    .dataframe tbody tr th:only-of-type {\n",
       "        vertical-align: middle;\n",
       "    }\n",
       "\n",
       "    .dataframe tbody tr th {\n",
       "        vertical-align: top;\n",
       "    }\n",
       "\n",
       "    .dataframe thead th {\n",
       "        text-align: right;\n",
       "    }\n",
       "</style>\n",
       "<table border=\"1\" class=\"dataframe\">\n",
       "  <thead>\n",
       "    <tr style=\"text-align: right;\">\n",
       "      <th></th>\n",
       "      <th>name</th>\n",
       "      <th>marks</th>\n",
       "      <th>city</th>\n",
       "    </tr>\n",
       "  </thead>\n",
       "  <tbody>\n",
       "    <tr>\n",
       "      <th>2</th>\n",
       "      <td>c</td>\n",
       "      <td>3</td>\n",
       "      <td>kolkata</td>\n",
       "    </tr>\n",
       "    <tr>\n",
       "      <th>3</th>\n",
       "      <td>d</td>\n",
       "      <td>4</td>\n",
       "      <td>hyderabad</td>\n",
       "    </tr>\n",
       "  </tbody>\n",
       "</table>\n",
       "</div>"
      ],
      "text/plain": [
       "  name  marks       city\n",
       "2    c      3    kolkata\n",
       "3    d      4  hyderabad"
      ]
     },
     "execution_count": 8,
     "metadata": {},
     "output_type": "execute_result"
    }
   ],
   "source": [
    "df.tail(2)"
   ]
  },
  {
   "cell_type": "markdown",
   "id": "ffb83348-c3b6-494f-87f9-a56759a48bec",
   "metadata": {},
   "source": [
    "# Getting the Statistical analysis of numeric data"
   ]
  },
  {
   "cell_type": "code",
   "execution_count": 9,
   "id": "4eb1ccb5-c4e2-4155-aec5-81d41d95d699",
   "metadata": {},
   "outputs": [
    {
     "data": {
      "text/html": [
       "<div>\n",
       "<style scoped>\n",
       "    .dataframe tbody tr th:only-of-type {\n",
       "        vertical-align: middle;\n",
       "    }\n",
       "\n",
       "    .dataframe tbody tr th {\n",
       "        vertical-align: top;\n",
       "    }\n",
       "\n",
       "    .dataframe thead th {\n",
       "        text-align: right;\n",
       "    }\n",
       "</style>\n",
       "<table border=\"1\" class=\"dataframe\">\n",
       "  <thead>\n",
       "    <tr style=\"text-align: right;\">\n",
       "      <th></th>\n",
       "      <th>marks</th>\n",
       "    </tr>\n",
       "  </thead>\n",
       "  <tbody>\n",
       "    <tr>\n",
       "      <th>count</th>\n",
       "      <td>4.000000</td>\n",
       "    </tr>\n",
       "    <tr>\n",
       "      <th>mean</th>\n",
       "      <td>2.500000</td>\n",
       "    </tr>\n",
       "    <tr>\n",
       "      <th>std</th>\n",
       "      <td>1.290994</td>\n",
       "    </tr>\n",
       "    <tr>\n",
       "      <th>min</th>\n",
       "      <td>1.000000</td>\n",
       "    </tr>\n",
       "    <tr>\n",
       "      <th>25%</th>\n",
       "      <td>1.750000</td>\n",
       "    </tr>\n",
       "    <tr>\n",
       "      <th>50%</th>\n",
       "      <td>2.500000</td>\n",
       "    </tr>\n",
       "    <tr>\n",
       "      <th>75%</th>\n",
       "      <td>3.250000</td>\n",
       "    </tr>\n",
       "    <tr>\n",
       "      <th>max</th>\n",
       "      <td>4.000000</td>\n",
       "    </tr>\n",
       "  </tbody>\n",
       "</table>\n",
       "</div>"
      ],
      "text/plain": [
       "          marks\n",
       "count  4.000000\n",
       "mean   2.500000\n",
       "std    1.290994\n",
       "min    1.000000\n",
       "25%    1.750000\n",
       "50%    2.500000\n",
       "75%    3.250000\n",
       "max    4.000000"
      ]
     },
     "execution_count": 9,
     "metadata": {},
     "output_type": "execute_result"
    }
   ],
   "source": [
    "df.describe()"
   ]
  },
  {
   "cell_type": "markdown",
   "id": "360e4c3f-4507-4516-a945-858c360b3ca2",
   "metadata": {},
   "source": [
    "# To read a newly created excel sheet"
   ]
  },
  {
   "cell_type": "code",
   "execution_count": 10,
   "id": "165304e1-e662-424f-87d1-14fa51871c63",
   "metadata": {},
   "outputs": [],
   "source": [
    "read1 = pd.read_csv('try.csv')"
   ]
  },
  {
   "cell_type": "code",
   "execution_count": 11,
   "id": "62505b4b-c2dc-4710-b678-9b11554f9dcb",
   "metadata": {},
   "outputs": [
    {
     "name": "stdout",
     "output_type": "stream",
     "text": [
      "  name  gender       city\n",
      "0    a    male    gurgaon\n",
      "1    b  female      delhi\n",
      "2    c    male    kolkata\n",
      "3    d  female  hyderabad\n"
     ]
    }
   ],
   "source": [
    "print(read1)"
   ]
  },
  {
   "cell_type": "markdown",
   "id": "8e5b73f7-d5c3-4266-b379-48f85944b1da",
   "metadata": {},
   "source": [
    "# To get details of a specific column"
   ]
  },
  {
   "cell_type": "code",
   "execution_count": 12,
   "id": "64e680c7-cb3a-4405-9c6b-9ddf625db0f3",
   "metadata": {},
   "outputs": [
    {
     "data": {
      "text/plain": [
       "0    a\n",
       "1    b\n",
       "2    c\n",
       "3    d\n",
       "Name: name, dtype: object"
      ]
     },
     "execution_count": 12,
     "metadata": {},
     "output_type": "execute_result"
    }
   ],
   "source": [
    "read1['name']"
   ]
  },
  {
   "cell_type": "code",
   "execution_count": 13,
   "id": "83319a88-d505-41b7-a971-47fe289dec65",
   "metadata": {},
   "outputs": [
    {
     "data": {
      "text/plain": [
       "'a'"
      ]
     },
     "execution_count": 13,
     "metadata": {},
     "output_type": "execute_result"
    }
   ],
   "source": [
    "read1['name'][0]"
   ]
  },
  {
   "cell_type": "markdown",
   "id": "224181aa-1793-4672-adc1-177fe489d9d4",
   "metadata": {},
   "source": [
    "# To permanently change a value of a particular field "
   ]
  },
  {
   "cell_type": "code",
   "execution_count": 14,
   "id": "770b7b80-e36b-4f5f-bb79-e7c229967a0f",
   "metadata": {},
   "outputs": [],
   "source": [
    "read1['name'][3] = 'da'"
   ]
  },
  {
   "cell_type": "code",
   "execution_count": 15,
   "id": "d672d5b1-746e-40a7-8920-4fdd6d699146",
   "metadata": {},
   "outputs": [
    {
     "name": "stdout",
     "output_type": "stream",
     "text": [
      "  name  gender       city\n",
      "0    a    male    gurgaon\n",
      "1    b  female      delhi\n",
      "2    c    male    kolkata\n",
      "3   da  female  hyderabad\n"
     ]
    }
   ],
   "source": [
    "print(read1)"
   ]
  },
  {
   "cell_type": "code",
   "execution_count": 16,
   "id": "ca92f6af-4d38-40f4-9557-adc228868433",
   "metadata": {},
   "outputs": [],
   "source": [
    "read1.to_csv('try.csv')"
   ]
  },
  {
   "cell_type": "markdown",
   "id": "2430d010-6bcd-4b27-8926-1206b73ade26",
   "metadata": {},
   "source": [
    "# Types of datatypes in python"
   ]
  },
  {
   "cell_type": "markdown",
   "id": "7e4599ec-8e83-4670-b541-9e999f8f3058",
   "metadata": {},
   "source": [
    "# Series and Dataframe "
   ]
  },
  {
   "cell_type": "markdown",
   "id": "0fe47940-4d85-4931-991e-db09e6c2d6eb",
   "metadata": {},
   "source": [
    "# 1. Series"
   ]
  },
  {
   "cell_type": "code",
   "execution_count": 19,
   "id": "a545fee2-21c2-4f9b-9313-c1362279cef2",
   "metadata": {},
   "outputs": [],
   "source": [
    "ser = pd.Series(np.random.rand(16))"
   ]
  },
  {
   "cell_type": "code",
   "execution_count": 20,
   "id": "4f0b6a16-cb08-43da-b8da-483fc8a6f05e",
   "metadata": {},
   "outputs": [
    {
     "name": "stdout",
     "output_type": "stream",
     "text": [
      "0     0.990918\n",
      "1     0.846307\n",
      "2     0.056707\n",
      "3     0.669873\n",
      "4     0.676085\n",
      "5     0.195876\n",
      "6     0.316213\n",
      "7     0.827727\n",
      "8     0.935344\n",
      "9     0.172149\n",
      "10    0.521399\n",
      "11    0.001331\n",
      "12    0.577201\n",
      "13    0.977850\n",
      "14    0.013687\n",
      "15    0.802621\n",
      "dtype: float64\n"
     ]
    }
   ],
   "source": [
    "print(ser)"
   ]
  },
  {
   "cell_type": "markdown",
   "id": "82873055-c23f-4844-8c62-e970450b38c2",
   "metadata": {},
   "source": [
    "# 2. Dataframe"
   ]
  },
  {
   "cell_type": "code",
   "execution_count": 23,
   "id": "d0832611-f26c-4cdb-997b-e9106242784c",
   "metadata": {},
   "outputs": [],
   "source": [
    "ser2 = pd.DataFrame(np.random.rand(20,4), index = np.arange(20))"
   ]
  },
  {
   "cell_type": "code",
   "execution_count": 25,
   "id": "6c79c05e-b87b-4d30-808f-5dd74de1a0b5",
   "metadata": {},
   "outputs": [
    {
     "name": "stdout",
     "output_type": "stream",
     "text": [
      "          0         1         2         3\n",
      "0  0.958262  0.169668  0.963327  0.215022\n",
      "1  0.966140  0.864291  0.085314  0.965421\n",
      "2  0.918913  0.156509  0.133876  0.352231\n",
      "3  0.098717  0.798985  0.270376  0.674492\n",
      "4  0.244849  0.358204  0.593065  0.360734\n"
     ]
    }
   ],
   "source": [
    "print(ser2.head(5))"
   ]
  },
  {
   "cell_type": "code",
   "execution_count": 26,
   "id": "f90b0a7a-0439-44e1-aad6-19b89e59083b",
   "metadata": {},
   "outputs": [
    {
     "data": {
      "text/html": [
       "<div>\n",
       "<style scoped>\n",
       "    .dataframe tbody tr th:only-of-type {\n",
       "        vertical-align: middle;\n",
       "    }\n",
       "\n",
       "    .dataframe tbody tr th {\n",
       "        vertical-align: top;\n",
       "    }\n",
       "\n",
       "    .dataframe thead th {\n",
       "        text-align: right;\n",
       "    }\n",
       "</style>\n",
       "<table border=\"1\" class=\"dataframe\">\n",
       "  <thead>\n",
       "    <tr style=\"text-align: right;\">\n",
       "      <th></th>\n",
       "      <th>0</th>\n",
       "      <th>1</th>\n",
       "      <th>2</th>\n",
       "      <th>3</th>\n",
       "    </tr>\n",
       "  </thead>\n",
       "  <tbody>\n",
       "    <tr>\n",
       "      <th>count</th>\n",
       "      <td>20.000000</td>\n",
       "      <td>20.000000</td>\n",
       "      <td>20.000000</td>\n",
       "      <td>20.000000</td>\n",
       "    </tr>\n",
       "    <tr>\n",
       "      <th>mean</th>\n",
       "      <td>0.507748</td>\n",
       "      <td>0.472818</td>\n",
       "      <td>0.424052</td>\n",
       "      <td>0.515921</td>\n",
       "    </tr>\n",
       "    <tr>\n",
       "      <th>std</th>\n",
       "      <td>0.329407</td>\n",
       "      <td>0.252944</td>\n",
       "      <td>0.276106</td>\n",
       "      <td>0.298522</td>\n",
       "    </tr>\n",
       "    <tr>\n",
       "      <th>min</th>\n",
       "      <td>0.095554</td>\n",
       "      <td>0.064579</td>\n",
       "      <td>0.014835</td>\n",
       "      <td>0.085606</td>\n",
       "    </tr>\n",
       "    <tr>\n",
       "      <th>25%</th>\n",
       "      <td>0.187017</td>\n",
       "      <td>0.296580</td>\n",
       "      <td>0.243199</td>\n",
       "      <td>0.270148</td>\n",
       "    </tr>\n",
       "    <tr>\n",
       "      <th>50%</th>\n",
       "      <td>0.494806</td>\n",
       "      <td>0.488092</td>\n",
       "      <td>0.393482</td>\n",
       "      <td>0.502491</td>\n",
       "    </tr>\n",
       "    <tr>\n",
       "      <th>75%</th>\n",
       "      <td>0.736338</td>\n",
       "      <td>0.657744</td>\n",
       "      <td>0.595449</td>\n",
       "      <td>0.776446</td>\n",
       "    </tr>\n",
       "    <tr>\n",
       "      <th>max</th>\n",
       "      <td>0.999446</td>\n",
       "      <td>0.864291</td>\n",
       "      <td>0.963327</td>\n",
       "      <td>0.976178</td>\n",
       "    </tr>\n",
       "  </tbody>\n",
       "</table>\n",
       "</div>"
      ],
      "text/plain": [
       "               0          1          2          3\n",
       "count  20.000000  20.000000  20.000000  20.000000\n",
       "mean    0.507748   0.472818   0.424052   0.515921\n",
       "std     0.329407   0.252944   0.276106   0.298522\n",
       "min     0.095554   0.064579   0.014835   0.085606\n",
       "25%     0.187017   0.296580   0.243199   0.270148\n",
       "50%     0.494806   0.488092   0.393482   0.502491\n",
       "75%     0.736338   0.657744   0.595449   0.776446\n",
       "max     0.999446   0.864291   0.963327   0.976178"
      ]
     },
     "execution_count": 26,
     "metadata": {},
     "output_type": "execute_result"
    }
   ],
   "source": [
    "ser2.describe()"
   ]
  },
  {
   "cell_type": "markdown",
   "id": "47a222d0-dcad-457c-b215-4f0be9626093",
   "metadata": {},
   "source": [
    "# To convert DataFrame into numpy arrays"
   ]
  },
  {
   "cell_type": "code",
   "execution_count": 27,
   "id": "eb6e873e-d9f6-4eec-8180-99eb544cc85c",
   "metadata": {},
   "outputs": [
    {
     "data": {
      "text/plain": [
       "array([[0.9582621 , 0.16966789, 0.96332729, 0.21502201],\n",
       "       [0.96613959, 0.86429099, 0.08531407, 0.96542103],\n",
       "       [0.91891346, 0.15650938, 0.13387601, 0.35223119],\n",
       "       [0.09871733, 0.79898527, 0.27037561, 0.67449154],\n",
       "       [0.24484906, 0.3582036 , 0.59306494, 0.36073414],\n",
       "       [0.13500224, 0.53636535, 0.88005153, 0.43558674],\n",
       "       [0.17301995, 0.6331652 , 0.31379305, 0.67068186],\n",
       "       [0.19047174, 0.34761113, 0.50280831, 0.22533449],\n",
       "       [0.67547954, 0.52020294, 0.41430522, 0.86531285],\n",
       "       [0.98615988, 0.75991139, 0.37265827, 0.31607378],\n",
       "       [0.17665361, 0.7155125 , 0.50843386, 0.11225912],\n",
       "       [0.64356677, 0.63848761, 0.3099889 , 0.81114363],\n",
       "       [0.52685336, 0.07631105, 0.01483465, 0.15444101],\n",
       "       [0.99944616, 0.25948005, 0.60259984, 0.08560574],\n",
       "       [0.65908983, 0.30894679, 0.29458239, 0.90060448],\n",
       "       [0.58482417, 0.45598014, 0.07390522, 0.56939449],\n",
       "       [0.46275802, 0.06457874, 0.16167074, 0.76488003],\n",
       "       [0.32844553, 0.41273077, 0.63545901, 0.28508626],\n",
       "       [0.09555406, 0.54786689, 0.87394318, 0.97617824],\n",
       "       [0.33076349, 0.83156187, 0.47604509, 0.57793167]])"
      ]
     },
     "execution_count": 27,
     "metadata": {},
     "output_type": "execute_result"
    }
   ],
   "source": [
    "ser2.to_numpy()"
   ]
  },
  {
   "cell_type": "code",
   "execution_count": 28,
   "id": "99195ea5-ee13-4e51-aba5-1a33d0aee601",
   "metadata": {},
   "outputs": [
    {
     "data": {
      "text/html": [
       "<div>\n",
       "<style scoped>\n",
       "    .dataframe tbody tr th:only-of-type {\n",
       "        vertical-align: middle;\n",
       "    }\n",
       "\n",
       "    .dataframe tbody tr th {\n",
       "        vertical-align: top;\n",
       "    }\n",
       "\n",
       "    .dataframe thead th {\n",
       "        text-align: right;\n",
       "    }\n",
       "</style>\n",
       "<table border=\"1\" class=\"dataframe\">\n",
       "  <thead>\n",
       "    <tr style=\"text-align: right;\">\n",
       "      <th></th>\n",
       "      <th>0</th>\n",
       "      <th>1</th>\n",
       "      <th>2</th>\n",
       "      <th>3</th>\n",
       "    </tr>\n",
       "  </thead>\n",
       "  <tbody>\n",
       "    <tr>\n",
       "      <th>19</th>\n",
       "      <td>0.330763</td>\n",
       "      <td>0.831562</td>\n",
       "      <td>0.476045</td>\n",
       "      <td>0.577932</td>\n",
       "    </tr>\n",
       "    <tr>\n",
       "      <th>18</th>\n",
       "      <td>0.095554</td>\n",
       "      <td>0.547867</td>\n",
       "      <td>0.873943</td>\n",
       "      <td>0.976178</td>\n",
       "    </tr>\n",
       "    <tr>\n",
       "      <th>17</th>\n",
       "      <td>0.328446</td>\n",
       "      <td>0.412731</td>\n",
       "      <td>0.635459</td>\n",
       "      <td>0.285086</td>\n",
       "    </tr>\n",
       "    <tr>\n",
       "      <th>16</th>\n",
       "      <td>0.462758</td>\n",
       "      <td>0.064579</td>\n",
       "      <td>0.161671</td>\n",
       "      <td>0.764880</td>\n",
       "    </tr>\n",
       "    <tr>\n",
       "      <th>15</th>\n",
       "      <td>0.584824</td>\n",
       "      <td>0.455980</td>\n",
       "      <td>0.073905</td>\n",
       "      <td>0.569394</td>\n",
       "    </tr>\n",
       "    <tr>\n",
       "      <th>14</th>\n",
       "      <td>0.659090</td>\n",
       "      <td>0.308947</td>\n",
       "      <td>0.294582</td>\n",
       "      <td>0.900604</td>\n",
       "    </tr>\n",
       "    <tr>\n",
       "      <th>13</th>\n",
       "      <td>0.999446</td>\n",
       "      <td>0.259480</td>\n",
       "      <td>0.602600</td>\n",
       "      <td>0.085606</td>\n",
       "    </tr>\n",
       "    <tr>\n",
       "      <th>12</th>\n",
       "      <td>0.526853</td>\n",
       "      <td>0.076311</td>\n",
       "      <td>0.014835</td>\n",
       "      <td>0.154441</td>\n",
       "    </tr>\n",
       "    <tr>\n",
       "      <th>11</th>\n",
       "      <td>0.643567</td>\n",
       "      <td>0.638488</td>\n",
       "      <td>0.309989</td>\n",
       "      <td>0.811144</td>\n",
       "    </tr>\n",
       "    <tr>\n",
       "      <th>10</th>\n",
       "      <td>0.176654</td>\n",
       "      <td>0.715512</td>\n",
       "      <td>0.508434</td>\n",
       "      <td>0.112259</td>\n",
       "    </tr>\n",
       "    <tr>\n",
       "      <th>9</th>\n",
       "      <td>0.986160</td>\n",
       "      <td>0.759911</td>\n",
       "      <td>0.372658</td>\n",
       "      <td>0.316074</td>\n",
       "    </tr>\n",
       "    <tr>\n",
       "      <th>8</th>\n",
       "      <td>0.675480</td>\n",
       "      <td>0.520203</td>\n",
       "      <td>0.414305</td>\n",
       "      <td>0.865313</td>\n",
       "    </tr>\n",
       "    <tr>\n",
       "      <th>7</th>\n",
       "      <td>0.190472</td>\n",
       "      <td>0.347611</td>\n",
       "      <td>0.502808</td>\n",
       "      <td>0.225334</td>\n",
       "    </tr>\n",
       "    <tr>\n",
       "      <th>6</th>\n",
       "      <td>0.173020</td>\n",
       "      <td>0.633165</td>\n",
       "      <td>0.313793</td>\n",
       "      <td>0.670682</td>\n",
       "    </tr>\n",
       "    <tr>\n",
       "      <th>5</th>\n",
       "      <td>0.135002</td>\n",
       "      <td>0.536365</td>\n",
       "      <td>0.880052</td>\n",
       "      <td>0.435587</td>\n",
       "    </tr>\n",
       "    <tr>\n",
       "      <th>4</th>\n",
       "      <td>0.244849</td>\n",
       "      <td>0.358204</td>\n",
       "      <td>0.593065</td>\n",
       "      <td>0.360734</td>\n",
       "    </tr>\n",
       "    <tr>\n",
       "      <th>3</th>\n",
       "      <td>0.098717</td>\n",
       "      <td>0.798985</td>\n",
       "      <td>0.270376</td>\n",
       "      <td>0.674492</td>\n",
       "    </tr>\n",
       "    <tr>\n",
       "      <th>2</th>\n",
       "      <td>0.918913</td>\n",
       "      <td>0.156509</td>\n",
       "      <td>0.133876</td>\n",
       "      <td>0.352231</td>\n",
       "    </tr>\n",
       "    <tr>\n",
       "      <th>1</th>\n",
       "      <td>0.966140</td>\n",
       "      <td>0.864291</td>\n",
       "      <td>0.085314</td>\n",
       "      <td>0.965421</td>\n",
       "    </tr>\n",
       "    <tr>\n",
       "      <th>0</th>\n",
       "      <td>0.958262</td>\n",
       "      <td>0.169668</td>\n",
       "      <td>0.963327</td>\n",
       "      <td>0.215022</td>\n",
       "    </tr>\n",
       "  </tbody>\n",
       "</table>\n",
       "</div>"
      ],
      "text/plain": [
       "           0         1         2         3\n",
       "19  0.330763  0.831562  0.476045  0.577932\n",
       "18  0.095554  0.547867  0.873943  0.976178\n",
       "17  0.328446  0.412731  0.635459  0.285086\n",
       "16  0.462758  0.064579  0.161671  0.764880\n",
       "15  0.584824  0.455980  0.073905  0.569394\n",
       "14  0.659090  0.308947  0.294582  0.900604\n",
       "13  0.999446  0.259480  0.602600  0.085606\n",
       "12  0.526853  0.076311  0.014835  0.154441\n",
       "11  0.643567  0.638488  0.309989  0.811144\n",
       "10  0.176654  0.715512  0.508434  0.112259\n",
       "9   0.986160  0.759911  0.372658  0.316074\n",
       "8   0.675480  0.520203  0.414305  0.865313\n",
       "7   0.190472  0.347611  0.502808  0.225334\n",
       "6   0.173020  0.633165  0.313793  0.670682\n",
       "5   0.135002  0.536365  0.880052  0.435587\n",
       "4   0.244849  0.358204  0.593065  0.360734\n",
       "3   0.098717  0.798985  0.270376  0.674492\n",
       "2   0.918913  0.156509  0.133876  0.352231\n",
       "1   0.966140  0.864291  0.085314  0.965421\n",
       "0   0.958262  0.169668  0.963327  0.215022"
      ]
     },
     "execution_count": 28,
     "metadata": {},
     "output_type": "execute_result"
    }
   ],
   "source": [
    "ser2.sort_index(axis = 0, ascending = False)"
   ]
  },
  {
   "cell_type": "markdown",
   "id": "ebb07cc1-a4e2-452c-8994-ce7d5aacea14",
   "metadata": {},
   "source": [
    "# Creating views: Method 1"
   ]
  },
  {
   "cell_type": "markdown",
   "id": "a03d4199-b33b-4a62-812a-6ec59e42894f",
   "metadata": {},
   "source": [
    "# note:- changing a value in view directly affects the original i.e the original also changes with change in view"
   ]
  },
  {
   "cell_type": "code",
   "execution_count": 30,
   "id": "7e785583-660b-4a43-b3b1-af8556613d76",
   "metadata": {},
   "outputs": [],
   "source": [
    "ser2view = ser2"
   ]
  },
  {
   "cell_type": "code",
   "execution_count": 32,
   "id": "8e33c813-89f9-4ff4-8825-7cbecea2a489",
   "metadata": {},
   "outputs": [
    {
     "name": "stderr",
     "output_type": "stream",
     "text": [
      "C:\\Users\\Manisha\\AppData\\Local\\Temp\\ipykernel_21228\\307610840.py:1: FutureWarning: ChainedAssignmentError: behaviour will change in pandas 3.0!\n",
      "You are setting values through chained assignment. Currently this works in certain cases, but when using Copy-on-Write (which will become the default behaviour in pandas 3.0) this will never work to update the original DataFrame or Series, because the intermediate object on which we are setting values will behave as a copy.\n",
      "A typical example is when you are setting values in a column of a DataFrame, like:\n",
      "\n",
      "df[\"col\"][row_indexer] = value\n",
      "\n",
      "Use `df.loc[row_indexer, \"col\"] = values` instead, to perform the assignment in a single step and ensure this keeps updating the original `df`.\n",
      "\n",
      "See the caveats in the documentation: https://pandas.pydata.org/pandas-docs/stable/user_guide/indexing.html#returning-a-view-versus-a-copy\n",
      "\n",
      "  ser2view[0][0] = 1100\n"
     ]
    }
   ],
   "source": [
    "ser2view[0][0] = 1100"
   ]
  },
  {
   "cell_type": "code",
   "execution_count": 34,
   "id": "ff5bd13b-a50a-4f79-a912-dd6d6ca960f6",
   "metadata": {},
   "outputs": [
    {
     "name": "stdout",
     "output_type": "stream",
     "text": [
      "             0         1         2         3\n",
      "0  1100.000000  0.169668  0.963327  0.215022\n",
      "1     0.966140  0.864291  0.085314  0.965421\n",
      "2     0.918913  0.156509  0.133876  0.352231\n",
      "3     0.098717  0.798985  0.270376  0.674492\n",
      "4     0.244849  0.358204  0.593065  0.360734\n"
     ]
    }
   ],
   "source": [
    "print(ser2.head(5))"
   ]
  },
  {
   "cell_type": "markdown",
   "id": "2af560e8-ea61-4881-905b-0d573405c8a6",
   "metadata": {},
   "source": [
    "# Creating views: Method 2"
   ]
  },
  {
   "cell_type": "markdown",
   "id": "7f3c360f-bc3e-4caf-8066-f75dfbf3690b",
   "metadata": {},
   "source": [
    "# note:- changing a value in view dosent affect the original i.e the original does not change with change in view, a copy is created"
   ]
  },
  {
   "cell_type": "code",
   "execution_count": 36,
   "id": "77d0b488-2b9a-44b4-9cbd-076d403eb28a",
   "metadata": {},
   "outputs": [],
   "source": [
    "ser2view2 = ser2.copy()"
   ]
  },
  {
   "cell_type": "code",
   "execution_count": 37,
   "id": "274c50c0-c513-4a62-a9e3-4e76aac65617",
   "metadata": {},
   "outputs": [
    {
     "name": "stderr",
     "output_type": "stream",
     "text": [
      "C:\\Users\\Manisha\\AppData\\Local\\Temp\\ipykernel_21228\\1110198303.py:1: FutureWarning: ChainedAssignmentError: behaviour will change in pandas 3.0!\n",
      "You are setting values through chained assignment. Currently this works in certain cases, but when using Copy-on-Write (which will become the default behaviour in pandas 3.0) this will never work to update the original DataFrame or Series, because the intermediate object on which we are setting values will behave as a copy.\n",
      "A typical example is when you are setting values in a column of a DataFrame, like:\n",
      "\n",
      "df[\"col\"][row_indexer] = value\n",
      "\n",
      "Use `df.loc[row_indexer, \"col\"] = values` instead, to perform the assignment in a single step and ensure this keeps updating the original `df`.\n",
      "\n",
      "See the caveats in the documentation: https://pandas.pydata.org/pandas-docs/stable/user_guide/indexing.html#returning-a-view-versus-a-copy\n",
      "\n",
      "  ser2view2[0][0] = 123\n"
     ]
    }
   ],
   "source": [
    "ser2view2[0][0] = 123"
   ]
  },
  {
   "cell_type": "code",
   "execution_count": 39,
   "id": "84315a8d-76a0-45de-9fdf-c0e7c5108a32",
   "metadata": {},
   "outputs": [
    {
     "name": "stdout",
     "output_type": "stream",
     "text": [
      "             0         1         2         3\n",
      "0  1100.000000  0.169668  0.963327  0.215022\n",
      "1     0.966140  0.864291  0.085314  0.965421\n",
      "2     0.918913  0.156509  0.133876  0.352231\n",
      "3     0.098717  0.798985  0.270376  0.674492\n",
      "4     0.244849  0.358204  0.593065  0.360734\n"
     ]
    }
   ],
   "source": [
    "print(ser2.head(5))"
   ]
  },
  {
   "cell_type": "markdown",
   "id": "ab6e6e2f-c3ac-46da-8c96-93fa74a0fd00",
   "metadata": {},
   "source": [
    "# To change value "
   ]
  },
  {
   "cell_type": "code",
   "execution_count": 40,
   "id": "220727e6-ad36-47b2-81a3-2668924847c5",
   "metadata": {},
   "outputs": [],
   "source": [
    "ser2.loc[0,0] = 123"
   ]
  },
  {
   "cell_type": "code",
   "execution_count": 42,
   "id": "69a547ed-3cdd-49e3-b232-60704ca794fd",
   "metadata": {},
   "outputs": [
    {
     "name": "stdout",
     "output_type": "stream",
     "text": [
      "            0         1         2         3\n",
      "0  123.000000  0.169668  0.963327  0.215022\n",
      "1    0.966140  0.864291  0.085314  0.965421\n",
      "2    0.918913  0.156509  0.133876  0.352231\n",
      "3    0.098717  0.798985  0.270376  0.674492\n",
      "4    0.244849  0.358204  0.593065  0.360734\n"
     ]
    }
   ],
   "source": [
    "print(ser2.head(5))"
   ]
  },
  {
   "cell_type": "markdown",
   "id": "54fef456-b12c-4989-9ec2-a0394555f728",
   "metadata": {},
   "source": [
    "# To drop a column"
   ]
  },
  {
   "cell_type": "code",
   "execution_count": 44,
   "id": "0f8b1f4c-0680-4139-9f73-b2d1dd3edade",
   "metadata": {},
   "outputs": [
    {
     "data": {
      "text/html": [
       "<div>\n",
       "<style scoped>\n",
       "    .dataframe tbody tr th:only-of-type {\n",
       "        vertical-align: middle;\n",
       "    }\n",
       "\n",
       "    .dataframe tbody tr th {\n",
       "        vertical-align: top;\n",
       "    }\n",
       "\n",
       "    .dataframe thead th {\n",
       "        text-align: right;\n",
       "    }\n",
       "</style>\n",
       "<table border=\"1\" class=\"dataframe\">\n",
       "  <thead>\n",
       "    <tr style=\"text-align: right;\">\n",
       "      <th></th>\n",
       "      <th>0</th>\n",
       "      <th>1</th>\n",
       "      <th>2</th>\n",
       "    </tr>\n",
       "  </thead>\n",
       "  <tbody>\n",
       "    <tr>\n",
       "      <th>0</th>\n",
       "      <td>123.000000</td>\n",
       "      <td>0.169668</td>\n",
       "      <td>0.963327</td>\n",
       "    </tr>\n",
       "    <tr>\n",
       "      <th>1</th>\n",
       "      <td>0.966140</td>\n",
       "      <td>0.864291</td>\n",
       "      <td>0.085314</td>\n",
       "    </tr>\n",
       "    <tr>\n",
       "      <th>2</th>\n",
       "      <td>0.918913</td>\n",
       "      <td>0.156509</td>\n",
       "      <td>0.133876</td>\n",
       "    </tr>\n",
       "    <tr>\n",
       "      <th>3</th>\n",
       "      <td>0.098717</td>\n",
       "      <td>0.798985</td>\n",
       "      <td>0.270376</td>\n",
       "    </tr>\n",
       "    <tr>\n",
       "      <th>4</th>\n",
       "      <td>0.244849</td>\n",
       "      <td>0.358204</td>\n",
       "      <td>0.593065</td>\n",
       "    </tr>\n",
       "    <tr>\n",
       "      <th>5</th>\n",
       "      <td>0.135002</td>\n",
       "      <td>0.536365</td>\n",
       "      <td>0.880052</td>\n",
       "    </tr>\n",
       "    <tr>\n",
       "      <th>6</th>\n",
       "      <td>0.173020</td>\n",
       "      <td>0.633165</td>\n",
       "      <td>0.313793</td>\n",
       "    </tr>\n",
       "    <tr>\n",
       "      <th>7</th>\n",
       "      <td>0.190472</td>\n",
       "      <td>0.347611</td>\n",
       "      <td>0.502808</td>\n",
       "    </tr>\n",
       "    <tr>\n",
       "      <th>8</th>\n",
       "      <td>0.675480</td>\n",
       "      <td>0.520203</td>\n",
       "      <td>0.414305</td>\n",
       "    </tr>\n",
       "    <tr>\n",
       "      <th>9</th>\n",
       "      <td>0.986160</td>\n",
       "      <td>0.759911</td>\n",
       "      <td>0.372658</td>\n",
       "    </tr>\n",
       "    <tr>\n",
       "      <th>10</th>\n",
       "      <td>0.176654</td>\n",
       "      <td>0.715512</td>\n",
       "      <td>0.508434</td>\n",
       "    </tr>\n",
       "    <tr>\n",
       "      <th>11</th>\n",
       "      <td>0.643567</td>\n",
       "      <td>0.638488</td>\n",
       "      <td>0.309989</td>\n",
       "    </tr>\n",
       "    <tr>\n",
       "      <th>12</th>\n",
       "      <td>0.526853</td>\n",
       "      <td>0.076311</td>\n",
       "      <td>0.014835</td>\n",
       "    </tr>\n",
       "    <tr>\n",
       "      <th>13</th>\n",
       "      <td>0.999446</td>\n",
       "      <td>0.259480</td>\n",
       "      <td>0.602600</td>\n",
       "    </tr>\n",
       "    <tr>\n",
       "      <th>14</th>\n",
       "      <td>0.659090</td>\n",
       "      <td>0.308947</td>\n",
       "      <td>0.294582</td>\n",
       "    </tr>\n",
       "    <tr>\n",
       "      <th>15</th>\n",
       "      <td>0.584824</td>\n",
       "      <td>0.455980</td>\n",
       "      <td>0.073905</td>\n",
       "    </tr>\n",
       "    <tr>\n",
       "      <th>16</th>\n",
       "      <td>0.462758</td>\n",
       "      <td>0.064579</td>\n",
       "      <td>0.161671</td>\n",
       "    </tr>\n",
       "    <tr>\n",
       "      <th>17</th>\n",
       "      <td>0.328446</td>\n",
       "      <td>0.412731</td>\n",
       "      <td>0.635459</td>\n",
       "    </tr>\n",
       "    <tr>\n",
       "      <th>18</th>\n",
       "      <td>0.095554</td>\n",
       "      <td>0.547867</td>\n",
       "      <td>0.873943</td>\n",
       "    </tr>\n",
       "    <tr>\n",
       "      <th>19</th>\n",
       "      <td>0.330763</td>\n",
       "      <td>0.831562</td>\n",
       "      <td>0.476045</td>\n",
       "    </tr>\n",
       "  </tbody>\n",
       "</table>\n",
       "</div>"
      ],
      "text/plain": [
       "             0         1         2\n",
       "0   123.000000  0.169668  0.963327\n",
       "1     0.966140  0.864291  0.085314\n",
       "2     0.918913  0.156509  0.133876\n",
       "3     0.098717  0.798985  0.270376\n",
       "4     0.244849  0.358204  0.593065\n",
       "5     0.135002  0.536365  0.880052\n",
       "6     0.173020  0.633165  0.313793\n",
       "7     0.190472  0.347611  0.502808\n",
       "8     0.675480  0.520203  0.414305\n",
       "9     0.986160  0.759911  0.372658\n",
       "10    0.176654  0.715512  0.508434\n",
       "11    0.643567  0.638488  0.309989\n",
       "12    0.526853  0.076311  0.014835\n",
       "13    0.999446  0.259480  0.602600\n",
       "14    0.659090  0.308947  0.294582\n",
       "15    0.584824  0.455980  0.073905\n",
       "16    0.462758  0.064579  0.161671\n",
       "17    0.328446  0.412731  0.635459\n",
       "18    0.095554  0.547867  0.873943\n",
       "19    0.330763  0.831562  0.476045"
      ]
     },
     "execution_count": 44,
     "metadata": {},
     "output_type": "execute_result"
    }
   ],
   "source": [
    "ser2.drop(3, axis = 1)"
   ]
  },
  {
   "cell_type": "code",
   "execution_count": 45,
   "id": "72fac7b4-cd28-4f29-aff8-986afbaa9b47",
   "metadata": {},
   "outputs": [
    {
     "name": "stdout",
     "output_type": "stream",
     "text": [
      "            0         1         2         3\n",
      "0  123.000000  0.169668  0.963327  0.215022\n",
      "1    0.966140  0.864291  0.085314  0.965421\n",
      "2    0.918913  0.156509  0.133876  0.352231\n",
      "3    0.098717  0.798985  0.270376  0.674492\n",
      "4    0.244849  0.358204  0.593065  0.360734\n"
     ]
    }
   ],
   "source": [
    "print(ser2.head())"
   ]
  },
  {
   "cell_type": "markdown",
   "id": "e52defa4-7d5b-45f7-87f8-679377ffb23e",
   "metadata": {},
   "source": [
    "# To permanently delete a column"
   ]
  },
  {
   "cell_type": "code",
   "execution_count": 46,
   "id": "99592054-9417-406d-be81-e0e37ae147f9",
   "metadata": {},
   "outputs": [],
   "source": [
    "ser2 = ser2.drop(3, axis = 1)"
   ]
  },
  {
   "cell_type": "code",
   "execution_count": 47,
   "id": "4481dddb-98c2-4da8-b16d-39e92d865cab",
   "metadata": {},
   "outputs": [
    {
     "name": "stdout",
     "output_type": "stream",
     "text": [
      "            0         1         2\n",
      "0  123.000000  0.169668  0.963327\n",
      "1    0.966140  0.864291  0.085314\n",
      "2    0.918913  0.156509  0.133876\n",
      "3    0.098717  0.798985  0.270376\n",
      "4    0.244849  0.358204  0.593065\n"
     ]
    }
   ],
   "source": [
    "print(ser2.head())"
   ]
  },
  {
   "cell_type": "code",
   "execution_count": null,
   "id": "b07e3430-0aa6-4d61-b548-fa6d4c4c73bc",
   "metadata": {},
   "outputs": [],
   "source": [
    "ser2.drop(3, axis = 1, inplace = True)"
   ]
  },
  {
   "cell_type": "markdown",
   "id": "644b5b0e-46a0-4ff8-b6b6-cda11870699d",
   "metadata": {},
   "source": [
    "# To get specific rows and columns"
   ]
  },
  {
   "cell_type": "code",
   "execution_count": 48,
   "id": "0dbe8a7f-eff1-48aa-ad85-0b855ad2834e",
   "metadata": {},
   "outputs": [
    {
     "data": {
      "text/html": [
       "<div>\n",
       "<style scoped>\n",
       "    .dataframe tbody tr th:only-of-type {\n",
       "        vertical-align: middle;\n",
       "    }\n",
       "\n",
       "    .dataframe tbody tr th {\n",
       "        vertical-align: top;\n",
       "    }\n",
       "\n",
       "    .dataframe thead th {\n",
       "        text-align: right;\n",
       "    }\n",
       "</style>\n",
       "<table border=\"1\" class=\"dataframe\">\n",
       "  <thead>\n",
       "    <tr style=\"text-align: right;\">\n",
       "      <th></th>\n",
       "      <th>0</th>\n",
       "      <th>1</th>\n",
       "    </tr>\n",
       "  </thead>\n",
       "  <tbody>\n",
       "    <tr>\n",
       "      <th>1</th>\n",
       "      <td>0.966140</td>\n",
       "      <td>0.864291</td>\n",
       "    </tr>\n",
       "    <tr>\n",
       "      <th>2</th>\n",
       "      <td>0.918913</td>\n",
       "      <td>0.156509</td>\n",
       "    </tr>\n",
       "  </tbody>\n",
       "</table>\n",
       "</div>"
      ],
      "text/plain": [
       "          0         1\n",
       "1  0.966140  0.864291\n",
       "2  0.918913  0.156509"
      ]
     },
     "execution_count": 48,
     "metadata": {},
     "output_type": "execute_result"
    }
   ],
   "source": [
    "ser2.loc[[1,2],[0,1]]"
   ]
  },
  {
   "cell_type": "code",
   "execution_count": 49,
   "id": "09d3b011-77c5-4115-aa4b-2b614187cd44",
   "metadata": {},
   "outputs": [
    {
     "data": {
      "text/html": [
       "<div>\n",
       "<style scoped>\n",
       "    .dataframe tbody tr th:only-of-type {\n",
       "        vertical-align: middle;\n",
       "    }\n",
       "\n",
       "    .dataframe tbody tr th {\n",
       "        vertical-align: top;\n",
       "    }\n",
       "\n",
       "    .dataframe thead th {\n",
       "        text-align: right;\n",
       "    }\n",
       "</style>\n",
       "<table border=\"1\" class=\"dataframe\">\n",
       "  <thead>\n",
       "    <tr style=\"text-align: right;\">\n",
       "      <th></th>\n",
       "      <th>0</th>\n",
       "      <th>1</th>\n",
       "      <th>2</th>\n",
       "    </tr>\n",
       "  </thead>\n",
       "  <tbody>\n",
       "    <tr>\n",
       "      <th>1</th>\n",
       "      <td>0.966140</td>\n",
       "      <td>0.864291</td>\n",
       "      <td>0.085314</td>\n",
       "    </tr>\n",
       "    <tr>\n",
       "      <th>2</th>\n",
       "      <td>0.918913</td>\n",
       "      <td>0.156509</td>\n",
       "      <td>0.133876</td>\n",
       "    </tr>\n",
       "  </tbody>\n",
       "</table>\n",
       "</div>"
      ],
      "text/plain": [
       "          0         1         2\n",
       "1  0.966140  0.864291  0.085314\n",
       "2  0.918913  0.156509  0.133876"
      ]
     },
     "execution_count": 49,
     "metadata": {},
     "output_type": "execute_result"
    }
   ],
   "source": [
    "ser2.loc[[1,2], :]"
   ]
  },
  {
   "cell_type": "markdown",
   "id": "da6762fd-03df-4080-8ac5-fe216e471652",
   "metadata": {},
   "source": [
    "# To get specific set of values from a column"
   ]
  },
  {
   "cell_type": "code",
   "execution_count": 52,
   "id": "49ca1d2f-336a-49c0-81dd-a159a3d7b1ed",
   "metadata": {},
   "outputs": [
    {
     "data": {
      "text/html": [
       "<div>\n",
       "<style scoped>\n",
       "    .dataframe tbody tr th:only-of-type {\n",
       "        vertical-align: middle;\n",
       "    }\n",
       "\n",
       "    .dataframe tbody tr th {\n",
       "        vertical-align: top;\n",
       "    }\n",
       "\n",
       "    .dataframe thead th {\n",
       "        text-align: right;\n",
       "    }\n",
       "</style>\n",
       "<table border=\"1\" class=\"dataframe\">\n",
       "  <thead>\n",
       "    <tr style=\"text-align: right;\">\n",
       "      <th></th>\n",
       "      <th>0</th>\n",
       "      <th>1</th>\n",
       "      <th>2</th>\n",
       "    </tr>\n",
       "  </thead>\n",
       "  <tbody>\n",
       "    <tr>\n",
       "      <th>3</th>\n",
       "      <td>0.098717</td>\n",
       "      <td>0.798985</td>\n",
       "      <td>0.270376</td>\n",
       "    </tr>\n",
       "    <tr>\n",
       "      <th>5</th>\n",
       "      <td>0.135002</td>\n",
       "      <td>0.536365</td>\n",
       "      <td>0.880052</td>\n",
       "    </tr>\n",
       "    <tr>\n",
       "      <th>6</th>\n",
       "      <td>0.173020</td>\n",
       "      <td>0.633165</td>\n",
       "      <td>0.313793</td>\n",
       "    </tr>\n",
       "    <tr>\n",
       "      <th>10</th>\n",
       "      <td>0.176654</td>\n",
       "      <td>0.715512</td>\n",
       "      <td>0.508434</td>\n",
       "    </tr>\n",
       "    <tr>\n",
       "      <th>18</th>\n",
       "      <td>0.095554</td>\n",
       "      <td>0.547867</td>\n",
       "      <td>0.873943</td>\n",
       "    </tr>\n",
       "    <tr>\n",
       "      <th>19</th>\n",
       "      <td>0.330763</td>\n",
       "      <td>0.831562</td>\n",
       "      <td>0.476045</td>\n",
       "    </tr>\n",
       "  </tbody>\n",
       "</table>\n",
       "</div>"
      ],
      "text/plain": [
       "           0         1         2\n",
       "3   0.098717  0.798985  0.270376\n",
       "5   0.135002  0.536365  0.880052\n",
       "6   0.173020  0.633165  0.313793\n",
       "10  0.176654  0.715512  0.508434\n",
       "18  0.095554  0.547867  0.873943\n",
       "19  0.330763  0.831562  0.476045"
      ]
     },
     "execution_count": 52,
     "metadata": {},
     "output_type": "execute_result"
    }
   ],
   "source": [
    "ser2.loc[(ser2[0]<0.5) & (ser2[1] > 0.5)]"
   ]
  },
  {
   "cell_type": "markdown",
   "id": "27dfa665-49cc-4e6a-aa9d-7da569cb1d09",
   "metadata": {},
   "source": [
    "# iloc"
   ]
  },
  {
   "cell_type": "markdown",
   "id": "4b536230-eeff-4898-8857-c48099bd9246",
   "metadata": {},
   "source": [
    "# To get specific rows/columns"
   ]
  },
  {
   "cell_type": "code",
   "execution_count": 54,
   "id": "2dbbb110-5796-4ffc-971f-2ea125ba2057",
   "metadata": {},
   "outputs": [
    {
     "data": {
      "text/plain": [
       "np.float64(0.9633272851025148)"
      ]
     },
     "execution_count": 54,
     "metadata": {},
     "output_type": "execute_result"
    }
   ],
   "source": [
    "ser2.iloc[0,2]"
   ]
  },
  {
   "cell_type": "code",
   "execution_count": 56,
   "id": "49a96f57-fa51-4aad-b32d-777c33f02381",
   "metadata": {},
   "outputs": [
    {
     "data": {
      "text/html": [
       "<div>\n",
       "<style scoped>\n",
       "    .dataframe tbody tr th:only-of-type {\n",
       "        vertical-align: middle;\n",
       "    }\n",
       "\n",
       "    .dataframe tbody tr th {\n",
       "        vertical-align: top;\n",
       "    }\n",
       "\n",
       "    .dataframe thead th {\n",
       "        text-align: right;\n",
       "    }\n",
       "</style>\n",
       "<table border=\"1\" class=\"dataframe\">\n",
       "  <thead>\n",
       "    <tr style=\"text-align: right;\">\n",
       "      <th></th>\n",
       "      <th>0</th>\n",
       "    </tr>\n",
       "  </thead>\n",
       "  <tbody>\n",
       "    <tr>\n",
       "      <th>0</th>\n",
       "      <td>123.00000</td>\n",
       "    </tr>\n",
       "    <tr>\n",
       "      <th>8</th>\n",
       "      <td>0.67548</td>\n",
       "    </tr>\n",
       "  </tbody>\n",
       "</table>\n",
       "</div>"
      ],
      "text/plain": [
       "           0\n",
       "0  123.00000\n",
       "8    0.67548"
      ]
     },
     "execution_count": 56,
     "metadata": {},
     "output_type": "execute_result"
    }
   ],
   "source": [
    "ser2.iloc[[0,8],[0]]"
   ]
  },
  {
   "cell_type": "markdown",
   "id": "03e940d0-a028-4e0b-ace0-b463a6b904dd",
   "metadata": {},
   "source": [
    "# To reset index"
   ]
  },
  {
   "cell_type": "code",
   "execution_count": 57,
   "id": "cff516c6-6441-44f8-89e5-ec5cc4042a57",
   "metadata": {},
   "outputs": [
    {
     "data": {
      "text/html": [
       "<div>\n",
       "<style scoped>\n",
       "    .dataframe tbody tr th:only-of-type {\n",
       "        vertical-align: middle;\n",
       "    }\n",
       "\n",
       "    .dataframe tbody tr th {\n",
       "        vertical-align: top;\n",
       "    }\n",
       "\n",
       "    .dataframe thead th {\n",
       "        text-align: right;\n",
       "    }\n",
       "</style>\n",
       "<table border=\"1\" class=\"dataframe\">\n",
       "  <thead>\n",
       "    <tr style=\"text-align: right;\">\n",
       "      <th></th>\n",
       "      <th>index</th>\n",
       "      <th>0</th>\n",
       "      <th>1</th>\n",
       "      <th>2</th>\n",
       "    </tr>\n",
       "  </thead>\n",
       "  <tbody>\n",
       "    <tr>\n",
       "      <th>0</th>\n",
       "      <td>0</td>\n",
       "      <td>123.000000</td>\n",
       "      <td>0.169668</td>\n",
       "      <td>0.963327</td>\n",
       "    </tr>\n",
       "    <tr>\n",
       "      <th>1</th>\n",
       "      <td>1</td>\n",
       "      <td>0.966140</td>\n",
       "      <td>0.864291</td>\n",
       "      <td>0.085314</td>\n",
       "    </tr>\n",
       "    <tr>\n",
       "      <th>2</th>\n",
       "      <td>2</td>\n",
       "      <td>0.918913</td>\n",
       "      <td>0.156509</td>\n",
       "      <td>0.133876</td>\n",
       "    </tr>\n",
       "    <tr>\n",
       "      <th>3</th>\n",
       "      <td>3</td>\n",
       "      <td>0.098717</td>\n",
       "      <td>0.798985</td>\n",
       "      <td>0.270376</td>\n",
       "    </tr>\n",
       "    <tr>\n",
       "      <th>4</th>\n",
       "      <td>4</td>\n",
       "      <td>0.244849</td>\n",
       "      <td>0.358204</td>\n",
       "      <td>0.593065</td>\n",
       "    </tr>\n",
       "    <tr>\n",
       "      <th>5</th>\n",
       "      <td>5</td>\n",
       "      <td>0.135002</td>\n",
       "      <td>0.536365</td>\n",
       "      <td>0.880052</td>\n",
       "    </tr>\n",
       "    <tr>\n",
       "      <th>6</th>\n",
       "      <td>6</td>\n",
       "      <td>0.173020</td>\n",
       "      <td>0.633165</td>\n",
       "      <td>0.313793</td>\n",
       "    </tr>\n",
       "    <tr>\n",
       "      <th>7</th>\n",
       "      <td>7</td>\n",
       "      <td>0.190472</td>\n",
       "      <td>0.347611</td>\n",
       "      <td>0.502808</td>\n",
       "    </tr>\n",
       "    <tr>\n",
       "      <th>8</th>\n",
       "      <td>8</td>\n",
       "      <td>0.675480</td>\n",
       "      <td>0.520203</td>\n",
       "      <td>0.414305</td>\n",
       "    </tr>\n",
       "    <tr>\n",
       "      <th>9</th>\n",
       "      <td>9</td>\n",
       "      <td>0.986160</td>\n",
       "      <td>0.759911</td>\n",
       "      <td>0.372658</td>\n",
       "    </tr>\n",
       "    <tr>\n",
       "      <th>10</th>\n",
       "      <td>10</td>\n",
       "      <td>0.176654</td>\n",
       "      <td>0.715512</td>\n",
       "      <td>0.508434</td>\n",
       "    </tr>\n",
       "    <tr>\n",
       "      <th>11</th>\n",
       "      <td>11</td>\n",
       "      <td>0.643567</td>\n",
       "      <td>0.638488</td>\n",
       "      <td>0.309989</td>\n",
       "    </tr>\n",
       "    <tr>\n",
       "      <th>12</th>\n",
       "      <td>12</td>\n",
       "      <td>0.526853</td>\n",
       "      <td>0.076311</td>\n",
       "      <td>0.014835</td>\n",
       "    </tr>\n",
       "    <tr>\n",
       "      <th>13</th>\n",
       "      <td>13</td>\n",
       "      <td>0.999446</td>\n",
       "      <td>0.259480</td>\n",
       "      <td>0.602600</td>\n",
       "    </tr>\n",
       "    <tr>\n",
       "      <th>14</th>\n",
       "      <td>14</td>\n",
       "      <td>0.659090</td>\n",
       "      <td>0.308947</td>\n",
       "      <td>0.294582</td>\n",
       "    </tr>\n",
       "    <tr>\n",
       "      <th>15</th>\n",
       "      <td>15</td>\n",
       "      <td>0.584824</td>\n",
       "      <td>0.455980</td>\n",
       "      <td>0.073905</td>\n",
       "    </tr>\n",
       "    <tr>\n",
       "      <th>16</th>\n",
       "      <td>16</td>\n",
       "      <td>0.462758</td>\n",
       "      <td>0.064579</td>\n",
       "      <td>0.161671</td>\n",
       "    </tr>\n",
       "    <tr>\n",
       "      <th>17</th>\n",
       "      <td>17</td>\n",
       "      <td>0.328446</td>\n",
       "      <td>0.412731</td>\n",
       "      <td>0.635459</td>\n",
       "    </tr>\n",
       "    <tr>\n",
       "      <th>18</th>\n",
       "      <td>18</td>\n",
       "      <td>0.095554</td>\n",
       "      <td>0.547867</td>\n",
       "      <td>0.873943</td>\n",
       "    </tr>\n",
       "    <tr>\n",
       "      <th>19</th>\n",
       "      <td>19</td>\n",
       "      <td>0.330763</td>\n",
       "      <td>0.831562</td>\n",
       "      <td>0.476045</td>\n",
       "    </tr>\n",
       "  </tbody>\n",
       "</table>\n",
       "</div>"
      ],
      "text/plain": [
       "    index           0         1         2\n",
       "0       0  123.000000  0.169668  0.963327\n",
       "1       1    0.966140  0.864291  0.085314\n",
       "2       2    0.918913  0.156509  0.133876\n",
       "3       3    0.098717  0.798985  0.270376\n",
       "4       4    0.244849  0.358204  0.593065\n",
       "5       5    0.135002  0.536365  0.880052\n",
       "6       6    0.173020  0.633165  0.313793\n",
       "7       7    0.190472  0.347611  0.502808\n",
       "8       8    0.675480  0.520203  0.414305\n",
       "9       9    0.986160  0.759911  0.372658\n",
       "10     10    0.176654  0.715512  0.508434\n",
       "11     11    0.643567  0.638488  0.309989\n",
       "12     12    0.526853  0.076311  0.014835\n",
       "13     13    0.999446  0.259480  0.602600\n",
       "14     14    0.659090  0.308947  0.294582\n",
       "15     15    0.584824  0.455980  0.073905\n",
       "16     16    0.462758  0.064579  0.161671\n",
       "17     17    0.328446  0.412731  0.635459\n",
       "18     18    0.095554  0.547867  0.873943\n",
       "19     19    0.330763  0.831562  0.476045"
      ]
     },
     "execution_count": 57,
     "metadata": {},
     "output_type": "execute_result"
    }
   ],
   "source": [
    "ser2.reset_index()"
   ]
  },
  {
   "cell_type": "code",
   "execution_count": null,
   "id": "5f045cf3-fa45-44bb-b5a7-d232c20fca51",
   "metadata": {},
   "outputs": [],
   "source": []
  }
 ],
 "metadata": {
  "kernelspec": {
   "display_name": "Python 3 (ipykernel)",
   "language": "python",
   "name": "python3"
  },
  "language_info": {
   "codemirror_mode": {
    "name": "ipython",
    "version": 3
   },
   "file_extension": ".py",
   "mimetype": "text/x-python",
   "name": "python",
   "nbconvert_exporter": "python",
   "pygments_lexer": "ipython3",
   "version": "3.11.4"
  }
 },
 "nbformat": 4,
 "nbformat_minor": 5
}
